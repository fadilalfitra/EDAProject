{
  "nbformat": 4,
  "nbformat_minor": 0,
  "metadata": {
    "colab": {
      "provenance": [],
      "collapsed_sections": [],
      "authorship_tag": "ABX9TyMcyYPYXgg+ilkMnmLL4LUD",
      "include_colab_link": true
    },
    "kernelspec": {
      "name": "python3",
      "display_name": "Python 3"
    },
    "language_info": {
      "name": "python"
    }
  },
  "cells": [
    {
      "cell_type": "markdown",
      "metadata": {
        "id": "view-in-github",
        "colab_type": "text"
      },
      "source": [
        "<a href=\"https://colab.research.google.com/github/fadilalfitra/EDAProject/blob/main/Covid19_dataset_kaggle.ipynb\" target=\"_parent\"><img src=\"https://colab.research.google.com/assets/colab-badge.svg\" alt=\"Open In Colab\"/></a>"
      ]
    },
    {
      "cell_type": "markdown",
      "source": [
        "# Preparation \n",
        "(iMPORT PACKAGE ETC)"
      ],
      "metadata": {
        "id": "-6JCRn7m9xub"
      }
    },
    {
      "cell_type": "code",
      "execution_count": null,
      "metadata": {
        "id": "Q6WdbYi7dLL2"
      },
      "outputs": [],
      "source": [
        "#Import main package\n",
        "import pandas as pd"
      ]
    },
    {
      "cell_type": "code",
      "source": [
        "# Check if link to Drive is OK\n",
        "google = !if [ -d 'Drive/' ]; then echo \"1\" ; else echo \"0\"; fi\n",
        "if (google[0] is '0' ):\n",
        "  from google.colab import drive\n",
        "  drive.mount('/content/Drive/')\n",
        "!if [ -d 'Drive/' ]; then echo \"Connection to Google drive successful\" ; else echo \"Error to connect to Google drive\"; fi\\"
      ],
      "metadata": {
        "id": "eilG0brvzUhD",
        "colab": {
          "base_uri": "https://localhost:8080/"
        },
        "outputId": "ee15c3b4-abd5-4d44-887b-92300cac5463"
      },
      "execution_count": null,
      "outputs": [
        {
          "output_type": "stream",
          "name": "stdout",
          "text": [
            "/bin/bash: -c: line 2: syntax error: unexpected end of file\n"
          ]
        }
      ]
    },
    {
      "cell_type": "code",
      "source": [
        "dataset = pd.read_csv('/content/Drive/My Drive/Colab Notebooks/Covid Live.csv', delimiter=',')\n",
        "dataset.columns = ['Id','Country','TotalCases','TotalDeaths',\n",
        "                   'NewDeaths','TotalRecovered', 'ActiveCases', \n",
        "                   'SeriousCritical','TotCases1Mpop', 'Deaths1Mpop',\n",
        "                   'TotalTests','Tests1Mpop', 'Population']\n",
        "dataset = dataset.set_index('Id')"
      ],
      "metadata": {
        "id": "nXzVruThew9A"
      },
      "execution_count": null,
      "outputs": []
    },
    {
      "cell_type": "code",
      "source": [
        "dataset.head()"
      ],
      "metadata": {
        "id": "so4mrGXFzMPX",
        "colab": {
          "base_uri": "https://localhost:8080/",
          "height": 282
        },
        "outputId": "b46510cc-47fc-42df-845b-0fcb06bb3c67"
      },
      "execution_count": null,
      "outputs": [
        {
          "output_type": "execute_result",
          "data": {
            "text/plain": [
              "    Country  TotalCases TotalDeaths  NewDeaths TotalRecovered ActiveCases  \\\n",
              "Id                                                                          \n",
              "1       USA  98,166,904   1,084,282        NaN     94,962,112   2,120,510   \n",
              "2     India  44,587,307     528,629        NaN     44,019,095      39,583   \n",
              "3    France  35,342,950     155,078        NaN     34,527,115     660,757   \n",
              "4    Brazil  34,706,757     686,027        NaN     33,838,636     182,094   \n",
              "5   Germany  33,312,373     149,948        NaN     32,315,200     847,225   \n",
              "\n",
              "   SeriousCritical TotCases1Mpop Deaths1Mpop     TotalTests Tests1Mpop  \\\n",
              "Id                                                                       \n",
              "1            2,970       293,206       3,239  1,118,158,870  3,339,729   \n",
              "2              698        31,698         376    894,416,853    635,857   \n",
              "3              869       538,892       2,365    271,490,188  4,139,547   \n",
              "4            8,318       161,162       3,186     63,776,166    296,146   \n",
              "5            1,406       397,126       1,788    122,332,384  1,458,359   \n",
              "\n",
              "       Population  \n",
              "Id                 \n",
              "1     334,805,269  \n",
              "2   1,406,631,776  \n",
              "3      65,584,518  \n",
              "4     215,353,593  \n",
              "5      83,883,596  "
            ],
            "text/html": [
              "\n",
              "  <div id=\"df-87abc685-8b60-4129-a7a5-0d29cdc40257\">\n",
              "    <div class=\"colab-df-container\">\n",
              "      <div>\n",
              "<style scoped>\n",
              "    .dataframe tbody tr th:only-of-type {\n",
              "        vertical-align: middle;\n",
              "    }\n",
              "\n",
              "    .dataframe tbody tr th {\n",
              "        vertical-align: top;\n",
              "    }\n",
              "\n",
              "    .dataframe thead th {\n",
              "        text-align: right;\n",
              "    }\n",
              "</style>\n",
              "<table border=\"1\" class=\"dataframe\">\n",
              "  <thead>\n",
              "    <tr style=\"text-align: right;\">\n",
              "      <th></th>\n",
              "      <th>Country</th>\n",
              "      <th>TotalCases</th>\n",
              "      <th>TotalDeaths</th>\n",
              "      <th>NewDeaths</th>\n",
              "      <th>TotalRecovered</th>\n",
              "      <th>ActiveCases</th>\n",
              "      <th>SeriousCritical</th>\n",
              "      <th>TotCases1Mpop</th>\n",
              "      <th>Deaths1Mpop</th>\n",
              "      <th>TotalTests</th>\n",
              "      <th>Tests1Mpop</th>\n",
              "      <th>Population</th>\n",
              "    </tr>\n",
              "    <tr>\n",
              "      <th>Id</th>\n",
              "      <th></th>\n",
              "      <th></th>\n",
              "      <th></th>\n",
              "      <th></th>\n",
              "      <th></th>\n",
              "      <th></th>\n",
              "      <th></th>\n",
              "      <th></th>\n",
              "      <th></th>\n",
              "      <th></th>\n",
              "      <th></th>\n",
              "      <th></th>\n",
              "    </tr>\n",
              "  </thead>\n",
              "  <tbody>\n",
              "    <tr>\n",
              "      <th>1</th>\n",
              "      <td>USA</td>\n",
              "      <td>98,166,904</td>\n",
              "      <td>1,084,282</td>\n",
              "      <td>NaN</td>\n",
              "      <td>94,962,112</td>\n",
              "      <td>2,120,510</td>\n",
              "      <td>2,970</td>\n",
              "      <td>293,206</td>\n",
              "      <td>3,239</td>\n",
              "      <td>1,118,158,870</td>\n",
              "      <td>3,339,729</td>\n",
              "      <td>334,805,269</td>\n",
              "    </tr>\n",
              "    <tr>\n",
              "      <th>2</th>\n",
              "      <td>India</td>\n",
              "      <td>44,587,307</td>\n",
              "      <td>528,629</td>\n",
              "      <td>NaN</td>\n",
              "      <td>44,019,095</td>\n",
              "      <td>39,583</td>\n",
              "      <td>698</td>\n",
              "      <td>31,698</td>\n",
              "      <td>376</td>\n",
              "      <td>894,416,853</td>\n",
              "      <td>635,857</td>\n",
              "      <td>1,406,631,776</td>\n",
              "    </tr>\n",
              "    <tr>\n",
              "      <th>3</th>\n",
              "      <td>France</td>\n",
              "      <td>35,342,950</td>\n",
              "      <td>155,078</td>\n",
              "      <td>NaN</td>\n",
              "      <td>34,527,115</td>\n",
              "      <td>660,757</td>\n",
              "      <td>869</td>\n",
              "      <td>538,892</td>\n",
              "      <td>2,365</td>\n",
              "      <td>271,490,188</td>\n",
              "      <td>4,139,547</td>\n",
              "      <td>65,584,518</td>\n",
              "    </tr>\n",
              "    <tr>\n",
              "      <th>4</th>\n",
              "      <td>Brazil</td>\n",
              "      <td>34,706,757</td>\n",
              "      <td>686,027</td>\n",
              "      <td>NaN</td>\n",
              "      <td>33,838,636</td>\n",
              "      <td>182,094</td>\n",
              "      <td>8,318</td>\n",
              "      <td>161,162</td>\n",
              "      <td>3,186</td>\n",
              "      <td>63,776,166</td>\n",
              "      <td>296,146</td>\n",
              "      <td>215,353,593</td>\n",
              "    </tr>\n",
              "    <tr>\n",
              "      <th>5</th>\n",
              "      <td>Germany</td>\n",
              "      <td>33,312,373</td>\n",
              "      <td>149,948</td>\n",
              "      <td>NaN</td>\n",
              "      <td>32,315,200</td>\n",
              "      <td>847,225</td>\n",
              "      <td>1,406</td>\n",
              "      <td>397,126</td>\n",
              "      <td>1,788</td>\n",
              "      <td>122,332,384</td>\n",
              "      <td>1,458,359</td>\n",
              "      <td>83,883,596</td>\n",
              "    </tr>\n",
              "  </tbody>\n",
              "</table>\n",
              "</div>\n",
              "      <button class=\"colab-df-convert\" onclick=\"convertToInteractive('df-87abc685-8b60-4129-a7a5-0d29cdc40257')\"\n",
              "              title=\"Convert this dataframe to an interactive table.\"\n",
              "              style=\"display:none;\">\n",
              "        \n",
              "  <svg xmlns=\"http://www.w3.org/2000/svg\" height=\"24px\"viewBox=\"0 0 24 24\"\n",
              "       width=\"24px\">\n",
              "    <path d=\"M0 0h24v24H0V0z\" fill=\"none\"/>\n",
              "    <path d=\"M18.56 5.44l.94 2.06.94-2.06 2.06-.94-2.06-.94-.94-2.06-.94 2.06-2.06.94zm-11 1L8.5 8.5l.94-2.06 2.06-.94-2.06-.94L8.5 2.5l-.94 2.06-2.06.94zm10 10l.94 2.06.94-2.06 2.06-.94-2.06-.94-.94-2.06-.94 2.06-2.06.94z\"/><path d=\"M17.41 7.96l-1.37-1.37c-.4-.4-.92-.59-1.43-.59-.52 0-1.04.2-1.43.59L10.3 9.45l-7.72 7.72c-.78.78-.78 2.05 0 2.83L4 21.41c.39.39.9.59 1.41.59.51 0 1.02-.2 1.41-.59l7.78-7.78 2.81-2.81c.8-.78.8-2.07 0-2.86zM5.41 20L4 18.59l7.72-7.72 1.47 1.35L5.41 20z\"/>\n",
              "  </svg>\n",
              "      </button>\n",
              "      \n",
              "  <style>\n",
              "    .colab-df-container {\n",
              "      display:flex;\n",
              "      flex-wrap:wrap;\n",
              "      gap: 12px;\n",
              "    }\n",
              "\n",
              "    .colab-df-convert {\n",
              "      background-color: #E8F0FE;\n",
              "      border: none;\n",
              "      border-radius: 50%;\n",
              "      cursor: pointer;\n",
              "      display: none;\n",
              "      fill: #1967D2;\n",
              "      height: 32px;\n",
              "      padding: 0 0 0 0;\n",
              "      width: 32px;\n",
              "    }\n",
              "\n",
              "    .colab-df-convert:hover {\n",
              "      background-color: #E2EBFA;\n",
              "      box-shadow: 0px 1px 2px rgba(60, 64, 67, 0.3), 0px 1px 3px 1px rgba(60, 64, 67, 0.15);\n",
              "      fill: #174EA6;\n",
              "    }\n",
              "\n",
              "    [theme=dark] .colab-df-convert {\n",
              "      background-color: #3B4455;\n",
              "      fill: #D2E3FC;\n",
              "    }\n",
              "\n",
              "    [theme=dark] .colab-df-convert:hover {\n",
              "      background-color: #434B5C;\n",
              "      box-shadow: 0px 1px 3px 1px rgba(0, 0, 0, 0.15);\n",
              "      filter: drop-shadow(0px 1px 2px rgba(0, 0, 0, 0.3));\n",
              "      fill: #FFFFFF;\n",
              "    }\n",
              "  </style>\n",
              "\n",
              "      <script>\n",
              "        const buttonEl =\n",
              "          document.querySelector('#df-87abc685-8b60-4129-a7a5-0d29cdc40257 button.colab-df-convert');\n",
              "        buttonEl.style.display =\n",
              "          google.colab.kernel.accessAllowed ? 'block' : 'none';\n",
              "\n",
              "        async function convertToInteractive(key) {\n",
              "          const element = document.querySelector('#df-87abc685-8b60-4129-a7a5-0d29cdc40257');\n",
              "          const dataTable =\n",
              "            await google.colab.kernel.invokeFunction('convertToInteractive',\n",
              "                                                     [key], {});\n",
              "          if (!dataTable) return;\n",
              "\n",
              "          const docLinkHtml = 'Like what you see? Visit the ' +\n",
              "            '<a target=\"_blank\" href=https://colab.research.google.com/notebooks/data_table.ipynb>data table notebook</a>'\n",
              "            + ' to learn more about interactive tables.';\n",
              "          element.innerHTML = '';\n",
              "          dataTable['output_type'] = 'display_data';\n",
              "          await google.colab.output.renderOutput(dataTable, element);\n",
              "          const docLink = document.createElement('div');\n",
              "          docLink.innerHTML = docLinkHtml;\n",
              "          element.appendChild(docLink);\n",
              "        }\n",
              "      </script>\n",
              "    </div>\n",
              "  </div>\n",
              "  "
            ]
          },
          "metadata": {},
          "execution_count": 24
        }
      ]
    },
    {
      "cell_type": "code",
      "source": [
        "dataset.dtypes"
      ],
      "metadata": {
        "colab": {
          "base_uri": "https://localhost:8080/"
        },
        "id": "qW_KLpjWZI8J",
        "outputId": "5f95eb76-f6d3-4cae-9ff9-70ef27bfd5bc"
      },
      "execution_count": null,
      "outputs": [
        {
          "output_type": "execute_result",
          "data": {
            "text/plain": [
              "Country             object\n",
              "TotalCases          object\n",
              "TotalDeaths         object\n",
              "NewDeaths          float64\n",
              "TotalRecovered      object\n",
              "ActiveCases         object\n",
              "SeriousCritical     object\n",
              "TotCases1Mpop       object\n",
              "Deaths1Mpop         object\n",
              "TotalTests          object\n",
              "Tests1Mpop          object\n",
              "Population          object\n",
              "dtype: object"
            ]
          },
          "metadata": {},
          "execution_count": 25
        }
      ]
    },
    {
      "cell_type": "code",
      "source": [
        "dataset.isnull().sum()"
      ],
      "metadata": {
        "colab": {
          "base_uri": "https://localhost:8080/"
        },
        "id": "h8tzIkNY9SOn",
        "outputId": "7b7c10c2-62e0-4c30-c5a2-9781cd4b0485"
      },
      "execution_count": null,
      "outputs": [
        {
          "output_type": "execute_result",
          "data": {
            "text/plain": [
              "Country              0\n",
              "TotalCases           0\n",
              "TotalDeaths          5\n",
              "NewDeaths          227\n",
              "TotalRecovered      16\n",
              "ActiveCases         15\n",
              "SeriousCritical     83\n",
              "TotCases1Mpop        2\n",
              "Deaths1Mpop          7\n",
              "TotalTests          16\n",
              "Tests1Mpop          16\n",
              "Population           2\n",
              "dtype: int64"
            ]
          },
          "metadata": {},
          "execution_count": 26
        }
      ]
    },
    {
      "cell_type": "markdown",
      "source": [
        "#Dataset explanation\n",
        "\n",
        "## Column name list and brief description\n",
        "1. Country             (object)\n",
        "2. TotalCases          (object)\n",
        "3. TotalDeaths         (object)\n",
        "4. NewDeaths          (float64)\n",
        "5. TotalRecovered      (object)\n",
        "6. ActiveCases         (object)\n",
        "7. SeriousCritical     (object)\n",
        "8. TotCases1Mpop       (object)\n",
        "9. Deaths1Mpop         (object)\n",
        "10. TotalTests          (object)\n",
        "11. Tests1Mpop          (object)\n",
        "12. Population          (object)\n",
        "\n",
        "## Dataset problems\n",
        "The dataset contain variables that should be stored as float, but currently stored as object instead. It's because the value contain comma (,) as their separator. Other problem is that the data contain a lot of missing value."
      ],
      "metadata": {
        "id": "cHMeOfouX7A5"
      }
    },
    {
      "cell_type": "markdown",
      "source": [
        "# Data preparation (preprocess)\n",
        "1. Remove comma and change data type into float\n",
        "2. Handling null (missing values)"
      ],
      "metadata": {
        "id": "PVXX5eDz-ApP"
      }
    },
    {
      "cell_type": "code",
      "source": [
        "#get column with dtype is object\n",
        "col_obj = dataset.select_dtypes(include = \"object\").columns\n",
        "col_obj = col_obj[col_obj!='Country'] #Excluding country because we don't have to this column dtype"
      ],
      "metadata": {
        "id": "EoxIawpW-SJn"
      },
      "execution_count": null,
      "outputs": []
    },
    {
      "cell_type": "code",
      "source": [
        "for col in col_obj:\n",
        "  dataset[col] = dataset[col].str.replace(\",\",\"\").astype(float)"
      ],
      "metadata": {
        "id": "hy_dKaGsE9M_"
      },
      "execution_count": null,
      "outputs": []
    },
    {
      "cell_type": "code",
      "source": [
        "import statistics as sts\n",
        "\n",
        "col_float = dataset.select_dtypes(include = \"float\").columns\n",
        "#Excluding NewDeaths\n",
        "col_float = col_float[col_float!='NewDeaths']\n",
        "#NewDeaths' missing value will be replaced with 0\n",
        "dataset['NewDeaths'].fillna(0, inplace=True)\n",
        "\n",
        "#Every col_float except NewDeaths will get Missing Value replaced as mean or average\n",
        "for col in col_float:\n",
        "  dataset[col].fillna(sts.mean(dataset[col].dropna()), inplace=True)\n"
      ],
      "metadata": {
        "id": "GpgkJg6-Fco9"
      },
      "execution_count": null,
      "outputs": []
    },
    {
      "cell_type": "markdown",
      "source": [
        "### Add some  variables\n",
        "I create some variable to make the analysis mor fascinating. Those variables are:\n",
        "1. RecoveredPercentage : percentage of total recovered divided by total cases\n",
        "2. DeathPercentage : Death ratio, percentage of total recovered divided by total cases\n",
        "3. CriticalPercentage : Percentage of critical or serious cases dividedby total cases"
      ],
      "metadata": {
        "id": "DPYkUsdk-rQg"
      }
    },
    {
      "cell_type": "code",
      "source": [
        "#Create variable\n",
        "dataset['RecoveredPercentage'] = dataset['TotalRecovered']*100/dataset['TotalCases']\n",
        "dataset['DeathPercentage'] = dataset['TotalDeaths']*100/dataset['TotalCases']\n",
        "dataset['CriticalPercentage'] = dataset['SeriousCritical']*100/dataset['TotalCases']"
      ],
      "metadata": {
        "id": "QQnxI-3N-mLA"
      },
      "execution_count": null,
      "outputs": []
    },
    {
      "cell_type": "markdown",
      "source": [
        "# Data Exploration (General)"
      ],
      "metadata": {
        "id": "pt8FuWQ_HK4F"
      }
    },
    {
      "cell_type": "markdown",
      "source": [
        "I will do my Exploration Data Analysis (EDA) by using a heatmap that represent correlation matrix between variables. This will help us to see the common relation between variables.\n",
        "Next EDA performed will be scatter plot. It will detail the heatmap by showing how one variable related to each other, with the first indication showed in heatmap."
      ],
      "metadata": {
        "id": "DsCCM8ayHx1q"
      }
    },
    {
      "cell_type": "markdown",
      "source": [
        "## Heatmap"
      ],
      "metadata": {
        "id": "RVictPcFIluM"
      }
    },
    {
      "cell_type": "code",
      "source": [
        "import numpy as np\n",
        "import seaborn as sns\n",
        "import matplotlib.pyplot as plt\n",
        "#get the corr plot\n",
        "corr = dataset.corr()\n",
        "mask = np.triu(np.ones_like(corr))\n",
        "heatmap = sns.heatmap(corr, cmap='Greens', mask=mask)\n",
        "\n",
        "plt.show()"
      ],
      "metadata": {
        "colab": {
          "base_uri": "https://localhost:8080/",
          "height": 364
        },
        "id": "zArR_F7VHP_Y",
        "outputId": "8d6e68a6-ba4e-4c44-e12a-6e5ff5bd91d0"
      },
      "execution_count": null,
      "outputs": [
        {
          "output_type": "display_data",
          "data": {
            "text/plain": [
              "<Figure size 432x288 with 2 Axes>"
            ],
            "image/png": "[encoded data removed]"
          },
          "metadata": {
            "needs_background": "light"
          }
        }
      ]
    },
    {
      "cell_type": "markdown",
      "source": [
        "The heatmap shows us some strong pair of strong correlation, namely:\n",
        "1. TotalDeaths x TotalCases\n",
        "2. TotalRecovered x TotalCases\n",
        "3. Total Recovered x TotalDeaths\n",
        "4. TotalTest x TotalRecovered\n",
        "\n",
        "Notice that variables that is Population Weighted (TotCases1Mpop, Deaths1Mpop,Test1Mpop) has a relatively smaller correlation than unweighted. However, most of the case, the weighted one is much more usefull because covid-19 is highly related with population density. \n",
        "\n",
        "We will try to talk more about this later."
      ],
      "metadata": {
        "id": "uw-rXdtfKZZS"
      }
    },
    {
      "cell_type": "markdown",
      "source": [
        "## Scatter Plot\n",
        "To investigate more about the relation between variables, we will use a scatter plot. But before that, I will create a new variable: recovered percentage. "
      ],
      "metadata": {
        "id": "riqgqfb1MMsl"
      }
    },
    {
      "cell_type": "code",
      "source": [
        "plt.ylabel('total case per 1 million pop')\n",
        "plt.xlabel('death per 1 M pop')\n",
        "plt.suptitle('Scatter Death x Total Case')\n",
        "sns.scatterplot(x=\"Deaths1Mpop\",y=\"TotCases1Mpop\",data=dataset)"
      ],
      "metadata": {
        "colab": {
          "base_uri": "https://localhost:8080/",
          "height": 325
        },
        "id": "pBfRn5pG9pSd",
        "outputId": "1ae614b1-1fee-422a-96fe-f0cd6ae14e8d"
      },
      "execution_count": null,
      "outputs": [
        {
          "output_type": "execute_result",
          "data": {
            "text/plain": [
              "<matplotlib.axes._subplots.AxesSubplot at 0x7f4e9d719390>"
            ]
          },
          "metadata": {},
          "execution_count": 37
        },
        {
          "output_type": "display_data",
          "data": {
            "text/plain": [
              "<Figure size 432x288 with 1 Axes>"
            ],
            "image/png": "[encoded data removed]"
          },
          "metadata": {
            "needs_background": "light"
          }
        }
      ]
    },
    {
      "cell_type": "code",
      "source": [
        "sns.boxplot(y=dataset['Deaths1Mpop'])"
      ],
      "metadata": {
        "colab": {
          "base_uri": "https://localhost:8080/",
          "height": 269
        },
        "id": "2lx8_Y0-MF-4",
        "outputId": "bd833666-e5ab-477b-85a9-0cbaba4179e9"
      },
      "execution_count": null,
      "outputs": [
        {
          "output_type": "execute_result",
          "data": {
            "text/plain": [
              "<matplotlib.axes._subplots.AxesSubplot at 0x7f4e9db4d450>"
            ]
          },
          "metadata": {},
          "execution_count": 35
        },
        {
          "output_type": "display_data",
          "data": {
            "text/plain": [
              "<Figure size 432x288 with 1 Axes>"
            ],
            "image/png": "[encoded data removed]"
          },
          "metadata": {
            "needs_background": "light"
          }
        }
      ]
    }
  ]
}